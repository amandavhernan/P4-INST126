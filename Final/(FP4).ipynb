{
 "cells": [
  {
   "cell_type": "code",
   "execution_count": null,
   "metadata": {
    "scrolled": true
   },
   "outputs": [],
   "source": [
    "welcome_message = \"Welcome! This is a college admissions calculator that will determine your eligibility to attend the University of Maryland.    Make sure you have your most up to date GPA and SAT score, as well as the number of activities you're currently involved in.   This program will tell you if you will be accepted, rejected, waitlisted, or deferred based on your GPA, SAT, and the  number  of   activities you're involved in.\" \n",
    "print(welcome_message)\n",
    "\n",
    "disclaimer = \"Please remember that the actual admissions process is based off  much more than just numbers, so don't let this program's        results discourage you from applying. The sole purpose of this program is to help you understand where you stand compared to   other students.\"\n",
    "print(disclaimer)\n",
    "\n"
   ]
  },
  {
   "cell_type": "code",
   "execution_count": null,
   "metadata": {
    "scrolled": true
   },
   "outputs": [],
   "source": [
    "import pandas as pd\n",
    "\n",
    "# Amanda Hernandez and Nnamdi Ede\n",
    "\n",
    "df=pd.read_csv(\"Admissions File FINAL\")\n",
    "\n",
    "\n",
    "accepted= df[(df['GPA']>=3.0) & (df['SAT']>=1250)]\n",
    "\n",
    "accepted.to_csv(\"accepted_students.csv\", index=False)\n",
    "\n",
    "rejected= df[(df['GPA']<=2.7) & (df['SAT']<1100)]\n",
    "\n",
    "rejected.to_csv(\"rejected_students.csv\", index=False)\n"
   ]
  },
  {
   "cell_type": "code",
   "execution_count": null,
   "metadata": {
    "scrolled": true
   },
   "outputs": [],
   "source": [
    "#Ryan Essem Jim Chen\n",
    "deferred_students = df.query(\"GPA >= 2.7 and GPA <= 3 and SAT >= 1100 and SAT <= 1250 and Activities >= 5\")\n",
    "\n",
    "waitlisted_students = df.query(\"GPA >= 2.7 and GPA <= 3 and SAT >= 1100 and SAT <= 1250 and Activities == 4\")\n",
    "\n",
    "deferred_students.to_csv(\"deferred_students.csv\", index=False)\n",
    "\n",
    "\n",
    "waitlisted_students.to_csv(\"waitlisted_students.csv\", index=False)"
   ]
  },
  {
   "cell_type": "code",
   "execution_count": null,
   "metadata": {
    "scrolled": true
   },
   "outputs": [],
   "source": [
    "import matplotlib.pyplot as plt\n",
    "#Nnamdi Ede and Amanda Hernandez\n",
    "plt.scatter(accepted['SAT'],accepted['GPA'], label= \"Accepted Students\")\n",
    "plt.scatter(rejected['SAT'],rejected['GPA'], label= \"Rejected Students\")\n",
    "plt.scatter(waitlisted_students['SAT'],waitlisted_students['GPA'], label= \"Waitlisted Students\")\n",
    "plt.scatter(deferred_students['SAT'],deferred_students['GPA'], label= \"Deferred Students\")\n",
    "plt.xlabel(\"Student SAT\")\n",
    "plt.ylabel(\"Student GPA\")\n",
    "plt.title(\"Comparison of UMD Applicants\")\n",
    "plt.legend(loc= \"upper right\", bbox_to_anchor=(1.5, 1.05))\n",
    "plt.show()\n",
    "#Ryan Essem and Jim Chen\n",
    "plt.xlabel(\"Number of Activities\")\n",
    "plt.ylabel(\"Number of Students\")\n",
    "plt.title(\"Number of Activities between Deferred and Waitlisted Students\")\n",
    "deferred_students['Activities'].hist(range=(4, 9), label = 'Deferred Students')\n",
    "waitlisted_students['Activities'].hist(range=(4, 9), label = 'Waitlisted Students')\n",
    "waitlisted_students.count()\n",
    "plt.legend(title = 'Legend', loc='upper right', bbox_to_anchor=(1.5, 1.05))\n",
    "plt.show()"
   ]
  },
  {
   "cell_type": "code",
   "execution_count": null,
   "metadata": {
    "scrolled": true
   },
   "outputs": [],
   "source": [
    "#Amanda Hernandez\n",
    "\n",
    "gpaFloat = input(\"Please enter your GPA: \")\n",
    "gpa = float(gpaFloat)\n",
    "\n",
    "satscoreString = input(\"Please enter your SAT score: \")\n",
    "satscore = int(satscoreString)\n",
    "rejection= True\n",
    "\n",
    "activitiesString = input(\"Please enter the number of activities you're currently involved in: \")\n",
    "activities = int(activitiesString)\n",
    "\n",
    "# acceptance\n",
    "\n",
    "if (gpa >= 3.0 and satscore >= 1250) :\n",
    "    rejection= False\n",
    "    print(\"Congratulations! Our research shows that you have an excellent chance of being accepted into the University of Maryland.        Maryland is one of the top public universities on the east coast, and it offers over 90 majors across 12 different colleges.   The best major you could choose, though, is information science! And here’s why: collaborative classrooms environments,        oppurtunities in data science, cybersecurity, digital curation, health, and tons of research opportunities!\")\n",
    "\n",
    "    \n",
    "# rejection\n",
    "    \n",
    "if (gpa <= 2.7 and satscore <1100) :\n",
    "    rejection= False\n",
    "    print(\"Unfortunately, our research shows that you would have a low chance of being offered admission to the University of Maryland.    Your best options would be to retake the SAT and get involved in more activities to boost your application.\")\n",
    "\n",
    "#waitlisted\n",
    "import numpy\n",
    "\n",
    "\n",
    "\n",
    "for gpa in numpy.arange(2.7, 3.0):\n",
    "    if satscore in range(1100, 1250) and activities == 4:\n",
    "        rejection = False\n",
    "        print(\"Unfortunately, our research shows that you  will most likely  not be offered  admissions to the University of Maryland at this time. But since your application was strong, your appplication will most likely be placed in the waitlisted application pool.  Your best options would be to retake the SAT and get involved in more activities to boost your application.\")\n",
    "   \n",
    " #deferred\n",
    "\n",
    "\n",
    "for gpa in numpy.arange(2.7, 3.0):\n",
    "    if satscore in range(1100, 1250) and activities >= 5:\n",
    "        rejection= False\n",
    "        print(\"Unfortunately, our research shows you will most likely  not be offered  admissions to the University of Maryland at this time. But since your application was strong, your appplication will most likely be  deferred  to the next application pool. Your best options would be to retake the SAT and get involved in more activities to boost your application.\")\n",
    "if rejection == True:\n",
    "    print(\"Unfortunately, our research shows that you would have a low chance of being offered admission to the University of Maryland.   Your best options would be to retake the SAT and get involved in more activities to boost your application.\")\n",
    "            \n",
    "    \n"
   ]
  },
  {
   "cell_type": "code",
   "execution_count": null,
   "metadata": {
    "scrolled": true
   },
   "outputs": [],
   "source": []
  },
  {
   "cell_type": "code",
   "execution_count": null,
   "metadata": {
    "scrolled": true
   },
   "outputs": [],
   "source": []
  }
 ],
 "metadata": {
  "kernelspec": {
   "display_name": "Python 3",
   "language": "python",
   "name": "python3"
  },
  "language_info": {
   "codemirror_mode": {
    "name": "ipython",
    "version": 3
   },
   "file_extension": ".py",
   "mimetype": "text/x-python",
   "name": "python",
   "nbconvert_exporter": "python",
   "pygments_lexer": "ipython3",
   "version": "3.8.5"
  }
 },
 "nbformat": 4,
 "nbformat_minor": 4
}
