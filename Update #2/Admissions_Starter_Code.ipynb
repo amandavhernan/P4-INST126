{
 "cells": [
  {
   "cell_type": "code",
   "execution_count": 7,
   "metadata": {},
   "outputs": [
    {
     "name": "stdout",
     "output_type": "stream",
     "text": [
      "Please enter your GPA: 3.0\n",
      "Please enter your SAT score: 1280\n",
      "Congratulations! You have been accepted.\n"
     ]
    }
   ],
   "source": [
    "# college admissions program, accepts or rejects student based on GPA and SAT score only\n",
    "\n",
    "gpaString = input(\"Please enter your GPA: \")\n",
    "gpa = float(gpaString)\n",
    "satscoreString = input(\"Please enter your SAT score: \")\n",
    "satscore = int(satscoreString)\n",
    "\n",
    "# using admission requirements to determine if a student would be accepted or rejected\n",
    "# UMD's average GPA and SAT score among admitted 2020 freshmen\n",
    "\n",
    "if gpa >= 4.36:\n",
    "    if satscore >= 1375: \n",
    "        print(\"Congratulations! You have been accepted.\")\n",
    "    else: \n",
    "        print(\"We regret to inform you that you have been rejected.\")\n",
    "        \n",
    "# random GPAs and SAT scores\n",
    "else: \n",
    "    if gpa >= 3.5:\n",
    "        if satscore >= 1300:\n",
    "            print(\"Congratulations! You have been accepted.\")\n",
    "        else: \n",
    "            print(\"We regret to inform you that you have been rejected.\")\n",
    "\n",
    "    else: \n",
    "        if gpa >= 3.0:\n",
    "            if satscore >= 1250:\n",
    "                print(\"Congratulations! You have been accepted.\")\n",
    "            else: \n",
    "                print(\"We regret to inform you that you have been rejected.\")\n",
    "        \n",
    "        else: \n",
    "            print(\"We regret to inform you that you have been rejected.\")"
   ]
  },
  {
   "cell_type": "code",
   "execution_count": null,
   "metadata": {},
   "outputs": [],
   "source": []
  }
 ],
 "metadata": {
  "kernelspec": {
   "display_name": "Python 3",
   "language": "python",
   "name": "python3"
  },
  "language_info": {
   "codemirror_mode": {
    "name": "ipython",
    "version": 3
   },
   "file_extension": ".py",
   "mimetype": "text/x-python",
   "name": "python",
   "nbconvert_exporter": "python",
   "pygments_lexer": "ipython3",
   "version": "3.8.5"
  }
 },
 "nbformat": 4,
 "nbformat_minor": 4
}
